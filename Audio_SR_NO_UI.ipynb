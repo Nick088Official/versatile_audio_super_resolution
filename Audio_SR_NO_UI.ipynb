{
  "nbformat": 4,
  "nbformat_minor": 0,
  "metadata": {
    "colab": {
      "provenance": [],
      "gpuType": "T4",
      "authorship_tag": "ABX9TyMdDNVfUUVC1VHZwq6JcBjc",
      "include_colab_link": true
    },
    "kernelspec": {
      "name": "python3",
      "display_name": "Python 3"
    },
    "language_info": {
      "name": "python"
    },
    "accelerator": "GPU"
  },
  "cells": [
    {
      "cell_type": "markdown",
      "metadata": {
        "id": "view-in-github",
        "colab_type": "text"
      },
      "source": [
        "<a href=\"https://colab.research.google.com/github/Nick088Official/versatile_audio_super_resolution/blob/main/Audio_SR_NO_UI.ipynb\" target=\"_parent\"><img src=\"https://colab.research.google.com/assets/colab-badge.svg\" alt=\"Open In Colab\"/></a>"
      ]
    },
    {
      "cell_type": "markdown",
      "source": [
        "# Audio SR NO UI\n",
        "\n",
        "Versatile Audio Super Resolution (any -> 48kHz)\n",
        "\n",
        "*NOTE:* Be sure to be using a GPU, it will crash on CPU because of the free RAM being too little"
      ],
      "metadata": {
        "id": "7OFcGSh4Ffqo"
      }
    },
    {
      "cell_type": "code",
      "source": [
        "#@title Install\n",
        "import os\n",
        "from IPython.display import clear_output\n",
        "!pip install audiosr\n",
        "os.mkdir(\"Audio_SR\")\n",
        "%cd Audio_SR\n",
        "os.mkdir(\"Inputs\")\n",
        "os.mkdir(\"Outputs\")\n",
        "Drive_Is_Mounted = False\n",
        "parent_dir = '/content/Audio_SR'\n",
        "inputs_path = \"/content/Audio_SR/Inputs/\"\n",
        "clear_output()\n",
        "print(\"Installed!\")"
      ],
      "metadata": {
        "id": "MP_7HNBl6hHp",
        "cellView": "form"
      },
      "execution_count": null,
      "outputs": []
    },
    {
      "cell_type": "code",
      "source": [
        "#@title (OPTIONAL) Mount Google Drive\n",
        "\n",
        "#@markdown NOTE: If you run this, the rest of the colab will use your Google Drive inputs and outputs folder instead of the Google Colab ones.\n",
        "\n",
        "from google.colab import drive\n",
        "import os\n",
        "\n",
        "# Mount Google Drive\n",
        "drive.mount('/content/drive')\n",
        "\n",
        "# Define the parent directory path\n",
        "parent_dir = '/content/drive/MyDrive/Audio_SR'\n",
        "\n",
        "# Create the parent directory if it doesn't exist\n",
        "if not os.path.exists(parent_dir):\n",
        "    os.mkdir(parent_dir)\n",
        "\n",
        "# Create the 'Inputs' and 'Outputs' subdirectories\n",
        "inputs_dir = os.path.join(parent_dir, 'Inputs')\n",
        "outputs_dir = os.path.join(parent_dir, 'Outputs')\n",
        "\n",
        "if not os.path.exists(inputs_dir):\n",
        "  os.mkdir(inputs_dir)\n",
        "\n",
        "if not os.path.exists(outputs_dir):\n",
        "  os.mkdir(outputs_dir)\n",
        "\n",
        "inputs_path = \"/content/drive/MyDrive/Audio_SR/Inputs/\"\n",
        "\n",
        "Drive_Is_Mounted = True"
      ],
      "metadata": {
        "cellView": "form",
        "id": "Vt4hyJV1ZnZs"
      },
      "execution_count": null,
      "outputs": []
    },
    {
      "cell_type": "code",
      "source": [
        "#@title Upload Input Audio\n",
        "\n",
        "#@markdown NOTE: If you Runned the Mount Google Drive Cell, it will upload the inputs into Google Drive. Also this won't work for NON Google Chrome Users, check the 2nd step for non chrome users in the guide if you are one of those.\n",
        "\n",
        "from google.colab import files\n",
        "import os\n",
        "import shutil\n",
        "\n",
        "# upload\n",
        "uploaded = files.upload()\n",
        "\n",
        "if Drive_Is_Mounted:\n",
        "\n",
        "  target_directory = '/content/drive/MyDrive/Audio_SR/Inputs'\n",
        "\n",
        "  # Get a list of all files uploaded by the user\n",
        "  user_uploaded_files = list(uploaded.keys())\n",
        "\n",
        "  # Move each user-uploaded file to the target directory\n",
        "  for file_name in user_uploaded_files:\n",
        "      source_path = os.path.join(f'/content/Audio_SR', file_name)\n",
        "      target_path = os.path.join(target_directory, file_name)\n",
        "      shutil.move(source_path, target_path)\n",
        "      print(f\"Moved '{file_name}' to the Google Drive Audio_SR/Inputs folder.\")\n",
        "else:\n",
        "\n",
        "  target_directory = '/content/Audio_SR/Inputs'\n",
        "\n",
        "  # Get a list of all files uploaded by the user\n",
        "  user_uploaded_files = list(uploaded.keys())\n",
        "\n",
        "  # Move each user-uploaded file to the target directory\n",
        "  for file_name in user_uploaded_files:\n",
        "      source_path = os.path.join(f'/content/Audio_SR', file_name)\n",
        "      target_path = os.path.join(target_directory, file_name)\n",
        "      shutil.move(source_path, target_path)\n",
        "      print(f\"Moved '{file_name}' to the Audio_SR/Inputs folder.\")"
      ],
      "metadata": {
        "cellView": "form",
        "id": "BoVUWN6DBtJp"
      },
      "execution_count": null,
      "outputs": []
    },
    {
      "cell_type": "code",
      "source": [
        "#@title Run Inference\n",
        "\n",
        "input_mode = \"single file\" #@param [\"single file\", \"file list\"]\n",
        "\n",
        "#@markdown **FOR SINGLE FILE MODE:** Input audio filename (with extension) for audio super resolution\n",
        "input_audio_file = \"low quality.wav\" #@param {type:\"string\"}\n",
        "\n",
        "#@markdown **FOR FILE LIST MODE:** A filename (with extension) that contains all audio files that need to perform audio super resolution\n",
        "input_file_list = \"batch.lst\" #@param {type:\"string\"}\n",
        "\n",
        "#@markdown The path to save model output will be /content/Audio_SR/Outputs, if you Mounted Google Drive it will be in the Audio_SR Google Drive Output Folder instead.\n",
        "\n",
        "#@markdown The checkpoint you gonna use\n",
        "model_name = \"speech\" #@param [\"basic\", \"speech\"]\n",
        "\n",
        "#@markdown The sampling step for DDIM\n",
        "ddim_steps = 50 #@param {type:\"slider\", min:1, max:100, step:1}\n",
        "\n",
        "#@markdown Guidance scale (Large => better quality and relavancy to text; Small => better diversity)\n",
        "guidance_scale = 3.5 #@param {type:\"slider\", min:0.0, max:10.0, step:0.1}\n",
        "\n",
        "#@markdown Changing this value (any integer number) will lead to a different generation result, put 0 for random seed.\n",
        "seed = 42 #@param {type:\"slider\", min:0, max:4294967295, step:1}\n",
        "\n",
        "#@markdown Suffix of the Output file\n",
        "suffix = \"_AudioSR_Processed_48K\" #@param {type:\"string\"}\n",
        "\n",
        "input_audio_file = f\"{inputs_path}{input_audio_file}\"\n",
        "input_file_list = f\"{inputs_path}{input_file_list}\"\n",
        "\n",
        "if Drive_Is_Mounted:\n",
        "  save_path = '/content/drive/MyDrive/Audio_SR/Outputs/'\n",
        "else:\n",
        "  save_path = '/content/Audio_SR/Outputs/'\n",
        "\n",
        "# set random seed when seed input value is 0\n",
        "if seed == 0:\n",
        "  import random\n",
        "  seed = random.randint(1, 2**32-1)\n",
        "\n",
        "if input_mode == \"single file\":\n",
        "  command = f\"-i '{input_audio_file}' -s {save_path} --model_name {model_name} --ddim_steps {ddim_steps} -gs {guidance_scale} --seed {seed} --suffix {suffix}\"\n",
        "elif input_mode == \"file list\":\n",
        "  command = f\"-il '{input_file_list}' -s {save_path} --model_name {model_name} --ddim_steps {ddim_steps} -gs {guidance_scale} --seed {seed} --suffix {suffix}\"\n",
        "\n",
        "!audiosr $command"
      ],
      "metadata": {
        "id": "zicMgRkz6jz6",
        "cellView": "form"
      },
      "execution_count": null,
      "outputs": []
    },
    {
      "cell_type": "code",
      "source": [
        "#@title Display Result\n",
        "from IPython.display import Audio, display, clear_output\n",
        "import os\n",
        "import glob\n",
        "\n",
        "# Store the current directory\n",
        "original_dir = %pwd\n",
        "\n",
        "# join save path\n",
        "%cd $save_path\n",
        "\n",
        "# Remove the extension and input path from the original filename\n",
        "input_audio_file = input_audio_file.replace(f\"{inputs_path}\", \"\")\n",
        "input_filename_without_extension = os.path.splitext(input_audio_file)[0]\n",
        "\n",
        "# Find all timestamped folders\n",
        "timestamped_folders = glob.glob(\"*_*_*_*_*_*\")\n",
        "\n",
        "# Sort folders by modification time (newest first)\n",
        "timestamped_folders.sort(key=os.path.getmtime, reverse=True)\n",
        "\n",
        "# Get the most recent folder\n",
        "most_recent_folder = timestamped_folders[0] if timestamped_folders else None\n",
        "\n",
        "if most_recent_folder:\n",
        "    # Construct the full path to the output file\n",
        "    output_file_path = os.path.join(most_recent_folder, input_filename_without_extension + suffix + os.path.splitext(input_audio_file)[1])\n",
        "\n",
        "    # Load the audio data\n",
        "    import librosa\n",
        "    audio_data, _ = librosa.load(output_file_path, sr=48000)  # Load audio at 48kHz\n",
        "\n",
        "    # Change back to the original directory\n",
        "    %cd $original_dir\n",
        "\n",
        "    # Clear the output\n",
        "    clear_output()\n",
        "\n",
        "    # Display the audio\n",
        "    display(Audio(audio_data, rate=48000, autoplay=True)) # Pass the audio data instead of the filename\n",
        "else:\n",
        "    print(\"No output folders found in the output directory.\")"
      ],
      "metadata": {
        "id": "u8Hft7T8dB1w",
        "cellView": "form"
      },
      "execution_count": null,
      "outputs": []
    },
    {
      "cell_type": "code",
      "source": [
        "#@title Dowload Output Result\n",
        "\n",
        "#@markdown NOTE: If you Runned the Mount Google Drive Cell, it will download automatically the output from Google Drive Audio_SR/Outputs folder.\n",
        "\n",
        "from google.colab import files\n",
        "\n",
        "files.download(f\"{save_path}{output_file_path}\")"
      ],
      "metadata": {
        "id": "li1zbqhCn1f9",
        "cellView": "form"
      },
      "execution_count": null,
      "outputs": []
    },
    {
      "source": [
        "#@title Delete Inputs & Ouputs\n",
        "\n",
        "#@markdown NOTE: You may wanna do this just to free up space, especially if you mounted Google Drive\n",
        "\n",
        "import os\n",
        "import shutil\n",
        "\n",
        "# Save the current working directory\n",
        "original_dir = os.getcwd()\n",
        "\n",
        "# Change to the parent directory\n",
        "%cd $parent_dir\n",
        "\n",
        "# Use shutil.rmtree to remove directories and their contents\n",
        "shutil.rmtree(\"Inputs\", ignore_errors=True) # ignore errors if the directory doesn't exist\n",
        "shutil.rmtree(\"Outputs\", ignore_errors=True)\n",
        "\n",
        "os.mkdir(\"Inputs\")\n",
        "os.mkdir(\"Outputs\")\n",
        "\n",
        "print(\"Succesfully cleared Inputs & Outputs folders!\")\n",
        "\n",
        "# Return to the original directory\n",
        "%cd $original_dir"
      ],
      "cell_type": "code",
      "metadata": {
        "cellView": "form",
        "id": "TSREJk5UwLXe",
        "collapsed": true
      },
      "execution_count": null,
      "outputs": []
    }
  ]
}